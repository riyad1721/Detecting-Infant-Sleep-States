{
 "cells": [
  {
   "cell_type": "code",
   "execution_count": null,
   "metadata": {},
   "outputs": [],
   "source": [
    "import cv2\n",
    "import numpy as shape_to_np\n",
    "import dlib\n",
    "from imutils import face_utils"
   ]
  },
  {
   "cell_type": "code",
   "execution_count": null,
   "metadata": {},
   "outputs": [],
   "source": [
    "video_url = \"16 - Baby Behavior_ All about sleep.mp4\"\n",
    "cap = cv2.VideoCapture(video_url)\n",
    "detector = dlib.get_frontal_face_detector()\n",
    "predictor = dlib.shape_predictor(\"shape_predictor_68_face_landmarks.dat\")"
   ]
  },
  {
   "cell_type": "code",
   "execution_count": null,
   "metadata": {},
   "outputs": [],
   "source": [
    "sleep = 0\n",
    "drowsy = 0\n",
    "active = 0\n",
    "status=\"\"\n",
    "color=(0,0,0)"
   ]
  },
  {
   "cell_type": "code",
   "execution_count": null,
   "metadata": {},
   "outputs": [],
   "source": [
    "def compute(ptA,ptB):\n",
    "\tdist = np.linalg.norm(ptA - ptB)\n",
    "\treturn dist\n",
    "\n",
    "def blinked(a,b,c,d,e,f):\n",
    "\tup = compute(b,d) + compute(c,e)\n",
    "\tdown = compute(a,f)\n",
    "\tratio = up/(2.0*down)\n",
    "\tif(ratio>0.25):\n",
    "\t\treturn 2\n",
    "\telif(ratio>0.21 and ratio<=0.25):\n",
    "\t\treturn 1\n",
    "\telse:\n",
    "\t\treturn 0"
   ]
  },
  {
   "cell_type": "code",
   "execution_count": null,
   "metadata": {},
   "outputs": [],
   "source": [
    "while True:\n",
    "    _, frame = cap.read()\n",
    "    gray = cv2.cvtColor(frame, cv2.COLOR_BGR2GRAY)\n",
    "    faces = detector(gray)\n",
    "    for face in faces:\n",
    "        x1 = face.left()\n",
    "        y1 = face.top()\n",
    "        x2 = face.right()\n",
    "        y2 = face.bottom()\n",
    "        face_frame = frame.copy()\n",
    "        cv2.rectangle(face_frame, (x1, y1), (x2, y2), (0, 255, 0), 2)\n",
    "        landmarks = predictor(gray, face)\n",
    "        landmarks = face_utils.shape_to_np(landmarks)\n",
    "        #The numbers are actually the landmarks which will show eye\n",
    "        left_blink = blinked(landmarks[36],landmarks[37], \n",
    "        \tlandmarks[38], landmarks[41], landmarks[40], landmarks[39])\n",
    "        right_blink = blinked(landmarks[42],landmarks[43], \n",
    "        \tlandmarks[44], landmarks[47], landmarks[46], landmarks[45])\n",
    "        #Now judge what to do for the eye blinks\n",
    "        if(left_blink==0 or right_blink==0):\n",
    "        \tsleep+=1\n",
    "        \tdrowsy=0\n",
    "        \tactive=0\n",
    "        \tif(sleep>3):\n",
    "        \t\tstatus=\"SLEEPING !!!\"\n",
    "        \t\tcolor = (255,0,0)\n",
    "        elif(left_blink==1 or right_blink==1):\n",
    "        \tsleep=0\n",
    "        \tactive=0\n",
    "        \tdrowsy+=1\n",
    "        \tif(drowsy>4):\n",
    "        \t\tstatus=\"Drowsy !\"\n",
    "        \t\tcolor = (0,0,255)\n",
    "        else:\n",
    "        \tdrowsy=0\n",
    "        \tsleep=0\n",
    "        \tactive+=1\n",
    "        \tif(active>6):\n",
    "        \t\tstatus=\"Active :)\"\n",
    "        \t\tcolor = (0,255,0) \t\n",
    "        cv2.putText(frame, status, (100,100), cv2.FONT_HERSHEY_SIMPLEX, 1.2, color,3)\n",
    "        for n in range(0, 68):\n",
    "        \t(x,y) = landmarks[n]\n",
    "        \tcv2.circle(face_frame, (x, y), 1, (255, 255, 255), -1)\n",
    "        cv2.imshow(\"Frame\", frame)\n",
    "        cv2.imshow(\"Result of detector\", face_frame)\n",
    "        key = cv2.waitKey(1)\n",
    "        if key == 27:\n",
    "          \tbreak"
   ]
  }
 ],
 "metadata": {
  "language_info": {
   "name": "python"
  }
 },
 "nbformat": 4,
 "nbformat_minor": 2
}
